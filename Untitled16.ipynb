{
  "nbformat": 4,
  "nbformat_minor": 0,
  "metadata": {
    "colab": {
      "provenance": [],
      "authorship_tag": "ABX9TyNhrJK/MK+ZrA4IRydBIszC",
      "include_colab_link": true
    },
    "kernelspec": {
      "name": "python3",
      "display_name": "Python 3"
    },
    "language_info": {
      "name": "python"
    }
  },
  "cells": [
    {
      "cell_type": "markdown",
      "metadata": {
        "id": "view-in-github",
        "colab_type": "text"
      },
      "source": [
        "<a href=\"https://colab.research.google.com/github/Adwaith12/Introduction-to-Python/blob/main/Untitled16.ipynb\" target=\"_parent\"><img src=\"https://colab.research.google.com/assets/colab-badge.svg\" alt=\"Open In Colab\"/></a>"
      ]
    },
    {
      "cell_type": "code",
      "execution_count": 6,
      "metadata": {
        "colab": {
          "base_uri": "https://localhost:8080/"
        },
        "id": "pJtQIXsMWflO",
        "outputId": "87e8e55f-a01a-401c-934e-477bc2c41294"
      },
      "outputs": [
        {
          "output_type": "stream",
          "name": "stdout",
          "text": [
            "enter a number12345689\n",
            "it is odd\n"
          ]
        }
      ],
      "source": [
        "def oddeven():\n",
        "\n",
        "    n=int(input(\"enter a number\"))\n",
        "    if(n%2==0):\n",
        "      print(\"it is even\")\n",
        "    else:\n",
        "      print(\"it is odd\")\n",
        "oddeven()      "
      ]
    },
    {
      "cell_type": "code",
      "source": [
        "def add(a,b):\n",
        "    c=a+b\n",
        "    print(\"sum is :\",c)\n",
        "add(4,8)    \n"
      ],
      "metadata": {
        "colab": {
          "base_uri": "https://localhost:8080/"
        },
        "id": "5S-rcHVeXQBq",
        "outputId": "95affd89-413b-4a06-a4dd-1d6177421d6c"
      },
      "execution_count": 16,
      "outputs": [
        {
          "output_type": "stream",
          "name": "stdout",
          "text": [
            "sum is : 12\n"
          ]
        }
      ]
    },
    {
      "cell_type": "code",
      "source": [
        "a=int(input(\"enter a number:\"))\n",
        "b=int(input(\"enter a number:\"))\n",
        "def add(a,b):    \n",
        "    \n",
        "    c=a+b\n",
        "    print(\"sum is :\",c)\n",
        "add(a,b)    "
      ],
      "metadata": {
        "colab": {
          "base_uri": "https://localhost:8080/"
        },
        "id": "9zj5ZJSJYDhm",
        "outputId": "0b963df6-c648-47e3-b5f1-88110f52ade8"
      },
      "execution_count": 21,
      "outputs": [
        {
          "output_type": "stream",
          "name": "stdout",
          "text": [
            "enter a number:12\n",
            "enter a number:14\n",
            "sum is : 26\n"
          ]
        }
      ]
    },
    {
      "cell_type": "code",
      "source": [
        "n=int(input(\"enter a number\"))\n",
        "def oddeven(n):\n",
        "\n",
        "    if(n%2==0):\n",
        "      print(\"it is even\")\n",
        "    else:\n",
        "      print(\"it is odd\")\n",
        "oddeven(n)      \n"
      ],
      "metadata": {
        "colab": {
          "base_uri": "https://localhost:8080/"
        },
        "id": "pYOeTix7cABw",
        "outputId": "2b6f1735-4dd5-40a7-b261-2d4acfe2d79e"
      },
      "execution_count": 26,
      "outputs": [
        {
          "output_type": "stream",
          "name": "stdout",
          "text": [
            "enter a number678\n",
            "it is even\n"
          ]
        }
      ]
    },
    {
      "cell_type": "code",
      "source": [],
      "metadata": {
        "id": "uqFddSdFfBQS"
      },
      "execution_count": null,
      "outputs": []
    }
  ]
}