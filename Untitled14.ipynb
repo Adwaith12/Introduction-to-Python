{
  "nbformat": 4,
  "nbformat_minor": 0,
  "metadata": {
    "colab": {
      "provenance": [],
      "authorship_tag": "ABX9TyPr0ihBMu8t9CzE9ywOozPL",
      "include_colab_link": true
    },
    "kernelspec": {
      "name": "python3",
      "display_name": "Python 3"
    },
    "language_info": {
      "name": "python"
    }
  },
  "cells": [
    {
      "cell_type": "markdown",
      "metadata": {
        "id": "view-in-github",
        "colab_type": "text"
      },
      "source": [
        "<a href=\"https://colab.research.google.com/github/Adwaith12/Introduction-to-Python/blob/main/Untitled14.ipynb\" target=\"_parent\"><img src=\"https://colab.research.google.com/assets/colab-badge.svg\" alt=\"Open In Colab\"/></a>"
      ]
    },
    {
      "cell_type": "code",
      "execution_count": 7,
      "metadata": {
        "colab": {
          "base_uri": "https://localhost:8080/"
        },
        "id": "FxjupwVgu47y",
        "outputId": "abf88427-73d4-46e6-c56d-f2089a7c41cd"
      },
      "outputs": [
        {
          "output_type": "stream",
          "name": "stdout",
          "text": [
            "    *\n",
            "   **\n",
            "  ***\n",
            " ****\n",
            "*****\n"
          ]
        }
      ],
      "source": [
        "i=1\n",
        "while(i<=5):\n",
        "     b=1\n",
        "     while(b<5-i+1):\n",
        "        print(\" \",end=\"\")\n",
        "        b=b+1\n",
        "     j=1\n",
        "     while(j<=i):\n",
        "            print(\"*\",end=\"\")\n",
        "            j=j+1\n",
        "     print()\n",
        "     i=i+1  "
      ]
    },
    {
      "cell_type": "code",
      "source": [
        "i=1\n",
        "while(i<=5):\n",
        "    j=5\n",
        "    while(j>=i):\n",
        "        print(\"*\",end=\" \")\n",
        "        j=j-1\n",
        "    print()\n",
        "    i=i+1"
      ],
      "metadata": {
        "colab": {
          "base_uri": "https://localhost:8080/"
        },
        "id": "_kse_1Oru6Mu",
        "outputId": "a338d1f6-b84b-48c8-8f6c-3ef774e209f8"
      },
      "execution_count": 8,
      "outputs": [
        {
          "output_type": "stream",
          "name": "stdout",
          "text": [
            "* * * * * \n",
            "* * * * \n",
            "* * * \n",
            "* * \n",
            "* \n"
          ]
        }
      ]
    },
    {
      "cell_type": "code",
      "source": [
        "i=1\n",
        "while(i<=5):\n",
        "    j=1\n",
        "    while(j<=i+2):\n",
        "       print(\"*\",end=\"\")\n",
        "       j=j+2\n",
        "    print()\n",
        "    i=i+1"
      ],
      "metadata": {
        "colab": {
          "base_uri": "https://localhost:8080/"
        },
        "id": "sFFlmASZv7I_",
        "outputId": "4923de39-a40d-4f34-84a6-6f21f595362a"
      },
      "execution_count": 9,
      "outputs": [
        {
          "output_type": "stream",
          "name": "stdout",
          "text": [
            "**\n",
            "**\n",
            "***\n",
            "***\n",
            "****\n"
          ]
        }
      ]
    },
    {
      "cell_type": "code",
      "source": [],
      "metadata": {
        "id": "Au_io9GhwCA1"
      },
      "execution_count": null,
      "outputs": []
    }
  ]
}