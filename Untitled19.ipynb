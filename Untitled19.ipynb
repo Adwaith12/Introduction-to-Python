{
  "nbformat": 4,
  "nbformat_minor": 0,
  "metadata": {
    "colab": {
      "provenance": [],
      "authorship_tag": "ABX9TyO3hH9nZ/CH0y8cMv94zaMW",
      "include_colab_link": true
    },
    "kernelspec": {
      "name": "python3",
      "display_name": "Python 3"
    },
    "language_info": {
      "name": "python"
    }
  },
  "cells": [
    {
      "cell_type": "markdown",
      "metadata": {
        "id": "view-in-github",
        "colab_type": "text"
      },
      "source": [
        "<a href=\"https://colab.research.google.com/github/Adwaith12/Introduction-to-Python/blob/main/Untitled19.ipynb\" target=\"_parent\"><img src=\"https://colab.research.google.com/assets/colab-badge.svg\" alt=\"Open In Colab\"/></a>"
      ]
    },
    {
      "cell_type": "code",
      "execution_count": 2,
      "metadata": {
        "colab": {
          "base_uri": "https://localhost:8080/"
        },
        "id": "TmtFldpchMQj",
        "outputId": "4cf08293-0e64-45da-b16d-4f95c0b3d36b"
      },
      "outputs": [
        {
          "output_type": "stream",
          "name": "stdout",
          "text": [
            "o worl\n"
          ]
        }
      ],
      "source": [
        "a=\"hello world\"\n",
        "print(a[4:-1])"
      ]
    },
    {
      "cell_type": "code",
      "source": [
        "b=\"hello world\"\n",
        "print(a[6:],a[0:6])"
      ],
      "metadata": {
        "colab": {
          "base_uri": "https://localhost:8080/"
        },
        "id": "KNjEv8DjiX1D",
        "outputId": "6cdc220c-8223-44b3-ab49-4732124e1d5d"
      },
      "execution_count": 11,
      "outputs": [
        {
          "output_type": "stream",
          "name": "stdout",
          "text": [
            "world hello \n"
          ]
        }
      ]
    },
    {
      "cell_type": "code",
      "source": [
        "c=\"hello world\"\n",
        "print(a[:6],a[6:])"
      ],
      "metadata": {
        "colab": {
          "base_uri": "https://localhost:8080/"
        },
        "id": "iX9Q459oipDi",
        "outputId": "c30b9e0e-6cba-4b18-af0a-dbc03a72474c"
      },
      "execution_count": 12,
      "outputs": [
        {
          "output_type": "stream",
          "name": "stdout",
          "text": [
            "hello  world\n"
          ]
        }
      ]
    },
    {
      "cell_type": "code",
      "source": [
        "d=\"romanjam rom\"\n",
        "print(len(d))"
      ],
      "metadata": {
        "colab": {
          "base_uri": "https://localhost:8080/"
        },
        "id": "8FEr1pxxj9p5",
        "outputId": "8d0addef-e906-4d59-dc38-2260d9f910b2"
      },
      "execution_count": 13,
      "outputs": [
        {
          "output_type": "stream",
          "name": "stdout",
          "text": [
            "12\n"
          ]
        }
      ]
    },
    {
      "cell_type": "code",
      "source": [
        "x=\"adwaith krishna\"\n",
        "print(x.capitalize())"
      ],
      "metadata": {
        "colab": {
          "base_uri": "https://localhost:8080/"
        },
        "id": "FR28ZuIZkxs7",
        "outputId": "c078c520-d324-4c53-e033-2a93080aa87f"
      },
      "execution_count": 14,
      "outputs": [
        {
          "output_type": "stream",
          "name": "stdout",
          "text": [
            "Adwaith krishna\n"
          ]
        }
      ]
    },
    {
      "cell_type": "code",
      "source": [
        "a=\"ram\"\n",
        "print(a[-1::-1])"
      ],
      "metadata": {
        "colab": {
          "base_uri": "https://localhost:8080/"
        },
        "id": "16y-S13blG6z",
        "outputId": "7ea10bb5-082a-4516-da76-964853abd786"
      },
      "execution_count": 15,
      "outputs": [
        {
          "output_type": "stream",
          "name": "stdout",
          "text": [
            "mar\n"
          ]
        }
      ]
    },
    {
      "cell_type": "code",
      "source": [
        "j=\"jjj thomas annen\"\n",
        "print(j[-1::-1])"
      ],
      "metadata": {
        "colab": {
          "base_uri": "https://localhost:8080/"
        },
        "id": "JY2ZCCAbnme9",
        "outputId": "efa67ea0-49a3-4a92-80b9-7e0f72a9b8bd"
      },
      "execution_count": 16,
      "outputs": [
        {
          "output_type": "stream",
          "name": "stdout",
          "text": [
            "nenna samoht jjj\n"
          ]
        }
      ]
    },
    {
      "cell_type": "code",
      "source": [
        "k=\"rfefh hdef gtf\"\n",
        "print(k[1::1])"
      ],
      "metadata": {
        "colab": {
          "base_uri": "https://localhost:8080/"
        },
        "id": "Fv3kaSiMoW75",
        "outputId": "87ca0581-46a8-4e15-9cac-b6c80537d059"
      },
      "execution_count": 17,
      "outputs": [
        {
          "output_type": "stream",
          "name": "stdout",
          "text": [
            "fefh hdef gtf\n"
          ]
        }
      ]
    },
    {
      "cell_type": "code",
      "source": [],
      "metadata": {
        "id": "UVUInxLcoyPa"
      },
      "execution_count": null,
      "outputs": []
    },
    {
      "cell_type": "code",
      "source": [],
      "metadata": {
        "id": "sikp32sdqJAk"
      },
      "execution_count": null,
      "outputs": []
    }
  ]
}