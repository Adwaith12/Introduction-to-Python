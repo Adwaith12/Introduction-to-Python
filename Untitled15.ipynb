{
  "nbformat": 4,
  "nbformat_minor": 0,
  "metadata": {
    "colab": {
      "provenance": [],
      "authorship_tag": "ABX9TyNSP/X6EZICd3Zj8cYOEyo2",
      "include_colab_link": true
    },
    "kernelspec": {
      "name": "python3",
      "display_name": "Python 3"
    },
    "language_info": {
      "name": "python"
    }
  },
  "cells": [
    {
      "cell_type": "markdown",
      "metadata": {
        "id": "view-in-github",
        "colab_type": "text"
      },
      "source": [
        "<a href=\"https://colab.research.google.com/github/Adwaith12/Introduction-to-Python/blob/main/Untitled15.ipynb\" target=\"_parent\"><img src=\"https://colab.research.google.com/assets/colab-badge.svg\" alt=\"Open In Colab\"/></a>"
      ]
    },
    {
      "cell_type": "code",
      "execution_count": 7,
      "metadata": {
        "colab": {
          "base_uri": "https://localhost:8080/"
        },
        "id": "1fYj2nd6Gbgv",
        "outputId": "ce12f316-2b81-4c97-a124-ca140d87fe30"
      },
      "outputs": [
        {
          "output_type": "stream",
          "name": "stdout",
          "text": [
            "hello\n",
            "hello\n"
          ]
        }
      ],
      "source": [
        "def  message():\n",
        "     print(\"hello\")\n",
        "\n",
        "message()\n",
        "message()"
      ]
    },
    {
      "cell_type": "code",
      "source": [
        "def  function(): \n",
        "     print(\"study functions\")\n",
        "\n",
        "\n",
        "function()    "
      ],
      "metadata": {
        "colab": {
          "base_uri": "https://localhost:8080/"
        },
        "id": "HRtfltx-Lp6x",
        "outputId": "2cbe1efe-b26d-4423-bca9-02771a5884f3"
      },
      "execution_count": 10,
      "outputs": [
        {
          "output_type": "stream",
          "name": "stdout",
          "text": [
            "study functions\n"
          ]
        }
      ]
    },
    {
      "cell_type": "code",
      "source": [
        "def  sum():\n",
        "     a=int(input(\"enter a number\"))\n",
        "     b=int(input(\"enter a number\"))\n",
        "     print(a+b)\n",
        "sum()     "
      ],
      "metadata": {
        "colab": {
          "base_uri": "https://localhost:8080/"
        },
        "id": "oEXyF9t4NA2e",
        "outputId": "7cadeb57-e47e-4eed-9a93-462a913a2715"
      },
      "execution_count": 11,
      "outputs": [
        {
          "output_type": "stream",
          "name": "stdout",
          "text": [
            "enter a number1\n",
            "enter a number11\n",
            "12\n"
          ]
        }
      ]
    },
    {
      "cell_type": "code",
      "source": [
        "def addition(a,b):\n",
        "    c=a+b\n",
        "    print(\"the sum is:\",c)\n",
        "a=int(input(\"enter a number:\"))\n",
        "b=int(input(\"enter a number:\"))\n",
        "addition(a,b)    "
      ],
      "metadata": {
        "colab": {
          "base_uri": "https://localhost:8080/"
        },
        "id": "C2MHlunJNksj",
        "outputId": "357fc000-8fcb-4277-f7d3-5284d563cf2d"
      },
      "execution_count": 12,
      "outputs": [
        {
          "output_type": "stream",
          "name": "stdout",
          "text": [
            "enter a number:9\n",
            "enter a number:3\n",
            "the sum is: 12\n"
          ]
        }
      ]
    },
    {
      "cell_type": "code",
      "source": [
        "def addition(a,b):\n",
        "    c=a+b\n",
        "    print(\"the sum is:\",c)\n",
        "addition(7,5)    "
      ],
      "metadata": {
        "colab": {
          "base_uri": "https://localhost:8080/"
        },
        "id": "HMUx5WhjPd4q",
        "outputId": "619e4573-4a1b-4df9-a2d2-d33fa8b9df5a"
      },
      "execution_count": 13,
      "outputs": [
        {
          "output_type": "stream",
          "name": "stdout",
          "text": [
            "the sum is: 12\n"
          ]
        }
      ]
    },
    {
      "cell_type": "code",
      "source": [
        "\n",
        "\n",
        "def Evenodd(num):\n",
        "    num=int(input(\"Enter a number for check odd or even: \"))\n",
        "    if(num%2==0):\n",
        "        print(num,\" Is an even\")\n",
        "    else:\n",
        "        print(num,\" is an odd\")\n",
        "Evenodd(num)      "
      ],
      "metadata": {
        "id": "7qTc__JMPxUJ"
      },
      "execution_count": null,
      "outputs": []
    },
    {
      "cell_type": "code",
      "source": [],
      "metadata": {
        "id": "MHk-GgUiXdhV"
      },
      "execution_count": null,
      "outputs": []
    }
  ]
}