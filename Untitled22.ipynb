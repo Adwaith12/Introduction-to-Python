{
  "nbformat": 4,
  "nbformat_minor": 0,
  "metadata": {
    "colab": {
      "provenance": [],
      "authorship_tag": "ABX9TyPcnC/b248UkBvqk7ihQSJm",
      "include_colab_link": true
    },
    "kernelspec": {
      "name": "python3",
      "display_name": "Python 3"
    },
    "language_info": {
      "name": "python"
    }
  },
  "cells": [
    {
      "cell_type": "markdown",
      "metadata": {
        "id": "view-in-github",
        "colab_type": "text"
      },
      "source": [
        "<a href=\"https://colab.research.google.com/github/Adwaith12/Introduction-to-Python/blob/main/Untitled22.ipynb\" target=\"_parent\"><img src=\"https://colab.research.google.com/assets/colab-badge.svg\" alt=\"Open In Colab\"/></a>"
      ]
    },
    {
      "cell_type": "code",
      "execution_count": null,
      "metadata": {
        "id": "h6HyFWgh03Mn"
      },
      "outputs": [],
      "source": [
        "                "
      ]
    },
    {
      "cell_type": "code",
      "source": [
        "str=input(\"Please enter a string as you wish: \")\n",
        "vowels=0\n",
        "consonants=0\n",
        "for i in str:\n",
        "    if(i == 'a'or i == 'e'or i == 'i'or i == 'o'or i == 'u' or\n",
        "       i == 'A'or i == 'E'or i == 'I'or i == 'O'or i == 'U' ):\n",
        "           vowels=vowels+1;\n",
        "    else:\n",
        "        consonants=consonants+1;\n",
        "\n",
        "print(\"The number of vowels:\",vowels);\n",
        "print(\"\\nThe number of consonant:\",consonants);"
      ],
      "metadata": {
        "colab": {
          "base_uri": "https://localhost:8080/"
        },
        "id": "ws_om6wN04sq",
        "outputId": "da315c89-1077-41bf-d546-e45dc90ae455"
      },
      "execution_count": 13,
      "outputs": [
        {
          "output_type": "stream",
          "name": "stdout",
          "text": [
            "Please enter a string as you wish: thfwerhjiidxd\n",
            "The number of vowels: 3\n",
            "\n",
            "The number of consonant: 10\n"
          ]
        }
      ]
    },
    {
      "cell_type": "code",
      "source": [],
      "metadata": {
        "id": "JpzQqXhE2KeS"
      },
      "execution_count": null,
      "outputs": []
    }
  ]
}