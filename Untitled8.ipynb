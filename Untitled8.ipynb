{
  "nbformat": 4,
  "nbformat_minor": 0,
  "metadata": {
    "colab": {
      "provenance": [],
      "authorship_tag": "ABX9TyNnekKusNIR/OKnffKrJGSo",
      "include_colab_link": true
    },
    "kernelspec": {
      "name": "python3",
      "display_name": "Python 3"
    },
    "language_info": {
      "name": "python"
    }
  },
  "cells": [
    {
      "cell_type": "markdown",
      "metadata": {
        "id": "view-in-github",
        "colab_type": "text"
      },
      "source": [
        "<a href=\"https://colab.research.google.com/github/Adwaith12/Introduction-to-Python/blob/main/Untitled8.ipynb\" target=\"_parent\"><img src=\"https://colab.research.google.com/assets/colab-badge.svg\" alt=\"Open In Colab\"/></a>"
      ]
    },
    {
      "cell_type": "code",
      "execution_count": 3,
      "metadata": {
        "colab": {
          "base_uri": "https://localhost:8080/"
        },
        "id": "c15tHIZ4uEFF",
        "outputId": "119b9f55-07e0-4d91-e24d-48e1fe6f2e6f"
      },
      "outputs": [
        {
          "output_type": "stream",
          "name": "stdout",
          "text": [
            "enter a number:9\n",
            "0\n",
            "1\n",
            "1\n",
            "2\n",
            "3\n",
            "5\n",
            "8\n"
          ]
        }
      ],
      "source": [
        "n=int(input(\"enter a number:\"))\n",
        "x=0\n",
        "y=1\n",
        "z=0\n",
        "while(n>=z):\n",
        "    print(z)\n",
        "    x=y\n",
        "    y=z\n",
        "    z=x+y\n",
        "    \n",
        "  "
      ]
    },
    {
      "cell_type": "code",
      "source": [
        "n=int(input(\"enter a number:\"))\n",
        "i=1\n",
        "count=0\n",
        "while(n>=i):\n",
        "     if(n%i==0):\n",
        "       count=count+1\n",
        "     i=i+1\n",
        "if (count==2):\n",
        "   print(\"it is prime\")\n",
        "else:\n",
        "   print(\"it is not prime\")"
      ],
      "metadata": {
        "colab": {
          "base_uri": "https://localhost:8080/"
        },
        "id": "3y3mFG0nuE82",
        "outputId": "c5586daa-302d-49f1-b7c9-27665b0e2616"
      },
      "execution_count": 4,
      "outputs": [
        {
          "output_type": "stream",
          "name": "stdout",
          "text": [
            "enter a number:123\n",
            "it is not prime\n"
          ]
        }
      ]
    },
    {
      "cell_type": "code",
      "source": [
        "i=1\n",
        "while(i>=5):\n",
        "     j=1\n",
        "     while(j<=i):\n",
        "         print(' * ',end=' ')\n",
        "         j=j+1\n",
        "     print()    \n",
        "     i=i+1    "
      ],
      "metadata": {
        "id": "sIn6fEoZxAuo"
      },
      "execution_count": 16,
      "outputs": []
    },
    {
      "cell_type": "code",
      "source": [
        "\n"
      ],
      "metadata": {
        "id": "rIonH2kZ2FyF"
      },
      "execution_count": 15,
      "outputs": []
    }
  ]
}