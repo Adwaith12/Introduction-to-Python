{
  "nbformat": 4,
  "nbformat_minor": 0,
  "metadata": {
    "colab": {
      "provenance": [],
      "authorship_tag": "ABX9TyNzFc2Kgbe8/IrtTDROv5W4",
      "include_colab_link": true
    },
    "kernelspec": {
      "name": "python3",
      "display_name": "Python 3"
    },
    "language_info": {
      "name": "python"
    }
  },
  "cells": [
    {
      "cell_type": "markdown",
      "metadata": {
        "id": "view-in-github",
        "colab_type": "text"
      },
      "source": [
        "<a href=\"https://colab.research.google.com/github/Adwaith12/Introduction-to-Python/blob/main/Untitled6.ipynb\" target=\"_parent\"><img src=\"https://colab.research.google.com/assets/colab-badge.svg\" alt=\"Open In Colab\"/></a>"
      ]
    },
    {
      "cell_type": "code",
      "execution_count": 1,
      "metadata": {
        "colab": {
          "base_uri": "https://localhost:8080/"
        },
        "id": "eM7KlU5fomee",
        "outputId": "37e47525-0035-444d-f63d-dce40464a29a"
      },
      "outputs": [
        {
          "output_type": "stream",
          "name": "stdout",
          "text": [
            "enter a number5\n",
            "120\n"
          ]
        }
      ],
      "source": [
        "n=int(input(\"enter a number\"))\n",
        "factorial=1\n",
        "for x in range(1,n+1):\n",
        "     factorial=factorial*x\n",
        "print(factorial) "
      ]
    },
    {
      "cell_type": "code",
      "source": [
        "n=int(input(\"enter a number:\"))\n",
        "i=1\n",
        "count=0\n",
        "while(n>=i):\n",
        "     if(n%i==0):\n",
        "       count=count+1\n",
        "     i=i+1\n",
        "if (count==2):\n",
        "   print(\"it is prime\")\n",
        "else:\n",
        "   print(\"it is not prime\")"
      ],
      "metadata": {
        "colab": {
          "base_uri": "https://localhost:8080/"
        },
        "id": "5IMu8jWMopNl",
        "outputId": "dde87875-9497-4547-8688-104254c2eca5"
      },
      "execution_count": 2,
      "outputs": [
        {
          "output_type": "stream",
          "name": "stdout",
          "text": [
            "enter a number:9\n",
            "it is not prime number\n",
            "it is prime\n"
          ]
        }
      ]
    },
    {
      "cell_type": "code",
      "source": [
        "n=int(input(\"enter the number\"))\n",
        "m=n\n",
        "rev=0\n",
        "rem=0\n",
        "while(n>0):\n",
        "    rem=n%10\n",
        "    rev=rev*10+rem\n",
        "    n=n//10\n",
        "if(m==rev):\n",
        "  print(\"the number is pallendrome\",m)\n",
        "else:\n",
        "  print(\"it is not pallendrome\") "
      ],
      "metadata": {
        "colab": {
          "base_uri": "https://localhost:8080/"
        },
        "id": "fh3dXRQ8o40l",
        "outputId": "a8631cc7-34fb-426b-b53b-05f7dcced1c6"
      },
      "execution_count": 4,
      "outputs": [
        {
          "output_type": "stream",
          "name": "stdout",
          "text": [
            "enter the number12321\n",
            "the number is pallendrome 12321\n"
          ]
        }
      ]
    },
    {
      "cell_type": "code",
      "source": [
        "n=int(input(\"enter the number:\"))\n",
        "product=1\n",
        "while(n>0):\n",
        "    product=product*(n%10)\n",
        "    n//10\n",
        "print(product)  "
      ],
      "metadata": {
        "colab": {
          "base_uri": "https://localhost:8080/"
        },
        "id": "pWEcG2aTpHtf",
        "outputId": "2894ff15-ad61-4ed1-a3d3-5f3ce0986f5d"
      },
      "execution_count": null,
      "outputs": [
        {
          "name": "stdout",
          "output_type": "stream",
          "text": [
            "enter the number:123\n"
          ]
        }
      ]
    },
    {
      "cell_type": "code",
      "source": [],
      "metadata": {
        "id": "gNMl-EDQpUy3"
      },
      "execution_count": null,
      "outputs": []
    }
  ]
}