{
  "nbformat": 4,
  "nbformat_minor": 0,
  "metadata": {
    "colab": {
      "provenance": [],
      "authorship_tag": "ABX9TyNRMwkLBI34qX9/bnDVoe+p",
      "include_colab_link": true
    },
    "kernelspec": {
      "name": "python3",
      "display_name": "Python 3"
    },
    "language_info": {
      "name": "python"
    }
  },
  "cells": [
    {
      "cell_type": "markdown",
      "metadata": {
        "id": "view-in-github",
        "colab_type": "text"
      },
      "source": [
        "<a href=\"https://colab.research.google.com/github/Adwaith12/Introduction-to-Python/blob/main/Untitled5.ipynb\" target=\"_parent\"><img src=\"https://colab.research.google.com/assets/colab-badge.svg\" alt=\"Open In Colab\"/></a>"
      ]
    },
    {
      "cell_type": "code",
      "execution_count": 9,
      "metadata": {
        "colab": {
          "base_uri": "https://localhost:8080/"
        },
        "id": "d208urPk1DSK",
        "outputId": "02de3948-d93d-48d7-c101-8dc4cd88aa8a"
      },
      "outputs": [
        {
          "output_type": "stream",
          "name": "stdout",
          "text": [
            "enter the  number:8\n",
            "20\n"
          ]
        }
      ],
      "source": [
        "n=int(input(\"enter the  number:\"))\n",
        "sum=0\n",
        "count=0\n",
        "i=1\n",
        "while(count<=n):\n",
        "    if(i%2==0):\n",
        "      sum=sum+i\n",
        "    count=count+1\n",
        "    i=i+1  \n",
        "print(sum)    \n",
        "\n",
        "\n",
        "\n"
      ]
    },
    {
      "cell_type": "code",
      "source": [
        "n=int(input(\"enter the number:\"))\n",
        "sum=0\n",
        "while(n>0):\n",
        "    sum=sum+n%10\n",
        "    n=n//10\n",
        "print(sum)\n",
        "\n",
        "\n"
      ],
      "metadata": {
        "colab": {
          "base_uri": "https://localhost:8080/"
        },
        "id": "j7UnmFGE63I3",
        "outputId": "6705060e-e871-4188-f827-d0d27ec35b29"
      },
      "execution_count": 12,
      "outputs": [
        {
          "output_type": "stream",
          "name": "stdout",
          "text": [
            "enter the number:12345\n",
            "15\n"
          ]
        }
      ]
    },
    {
      "cell_type": "code",
      "source": [
        "n=int(input(\"enter a number\"))\n",
        "sum=0\n",
        "while(n>0):\n",
        "   sum=sum+(n%10)**2\n",
        "   n=n//10\n",
        "print(sum)"
      ],
      "metadata": {
        "colab": {
          "base_uri": "https://localhost:8080/"
        },
        "id": "4bVNvcAbHySy",
        "outputId": "072104b6-352b-4480-b8fd-2cfa93be4aa6"
      },
      "execution_count": 17,
      "outputs": [
        {
          "output_type": "stream",
          "name": "stdout",
          "text": [
            "enter a number999\n",
            "243\n"
          ]
        }
      ]
    },
    {
      "cell_type": "code",
      "source": [
        "n=int(input(\"enter the number:\"))\n",
        "c=0\n",
        "sum=0\n",
        "m=n\n",
        "x=n\n",
        "while(n>0):\n",
        "    c=c+1\n",
        "    n=n//10\n",
        "while(m>0):\n",
        "    sum=sum+(m%10)**c\n",
        "    m=m//10\n",
        "if(x==sum):\n",
        "     print(\"IT IS AN AMSTRONG NUMBER\",x)\n",
        "else:\n",
        "     print(\"it is not amstrong number\")  \n",
        "    \n"
      ],
      "metadata": {
        "colab": {
          "base_uri": "https://localhost:8080/"
        },
        "id": "En7TFURjJ1od",
        "outputId": "8d237ba7-c684-47c2-88b5-9e199b7bb077"
      },
      "execution_count": 28,
      "outputs": [
        {
          "output_type": "stream",
          "name": "stdout",
          "text": [
            "enter the number:371\n",
            "IT IS AN AMSTRONG NUMBER 371\n"
          ]
        }
      ]
    },
    {
      "cell_type": "code",
      "source": [],
      "metadata": {
        "id": "MHUvgdDTdvBv"
      },
      "execution_count": null,
      "outputs": []
    }
  ]
}